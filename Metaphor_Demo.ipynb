{
  "nbformat": 4,
  "nbformat_minor": 0,
  "metadata": {
    "colab": {
      "name": "Metaphor_Demo.ipynb",
      "provenance": [],
      "collapsed_sections": [],
      "authorship_tag": "ABX9TyMTCLNxACNpPjl1z6CnU+9d",
      "include_colab_link": true
    },
    "kernelspec": {
      "name": "python3",
      "display_name": "Python 3"
    },
    "language_info": {
      "name": "python"
    },
    "accelerator": "GPU"
  },
  "cells": [
    {
      "cell_type": "markdown",
      "metadata": {
        "id": "view-in-github",
        "colab_type": "text"
      },
      "source": [
        "<a href=\"https://colab.research.google.com/github/EhsanAghazadeh/Metaphors_in_PLMs/blob/main/Metaphor_Demo.ipynb\" target=\"_parent\"><img src=\"https://colab.research.google.com/assets/colab-badge.svg\" alt=\"Open In Colab\"/></a>"
      ]
    },
    {
      "cell_type": "code",
      "execution_count": null,
      "metadata": {
        "id": "H16lCkpJCcnJ"
      },
      "outputs": [],
      "source": [
        "! pip install datasets==1.18.3\n",
        "! pip install transformers==4.18.0\n",
        "! rm -r Metaphors_in_PLMs/\n",
        "! git clone https://github.com/EhsanAghazadeh/Metaphors_in_PLMs\n",
        "! git clone https://github.com/mohsenfayyaz/edge-probing-datasets.git"
      ]
    },
    {
      "cell_type": "code",
      "source": [
        "%env MDL_CODE=/content/Metaphors_in_PLMs/source_code/scripts/mdl_probing.py\n",
        "%env EDGE_CODE=/content/Metaphors_in_PLMs/source_code/scripts/edge_probing.py"
      ],
      "metadata": {
        "colab": {
          "base_uri": "https://localhost:8080/"
        },
        "id": "1fvPbruBCpHK",
        "outputId": "f36e58c6-4522-4642-f2e1-eccea46c96a7"
      },
      "execution_count": 2,
      "outputs": [
        {
          "output_type": "stream",
          "name": "stdout",
          "text": [
            "env: MDL_CODE=/content/Metaphors_in_PLMs/source_code/scripts/mdl_probing.py\n",
            "env: EDGE_CODE=/content/Metaphors_in_PLMs/source_code/scripts/edge_probing.py\n"
          ]
        }
      ]
    },
    {
      "cell_type": "markdown",
      "source": [
        "# Edge Probing"
      ],
      "metadata": {
        "id": "DfNqxes7UEVi"
      }
    },
    {
      "cell_type": "code",
      "source": [
        "! python3 $EDGE_CODE bert-base-uncased trofi 0"
      ],
      "metadata": {
        "id": "g041niRlFeX7"
      },
      "execution_count": null,
      "outputs": []
    },
    {
      "cell_type": "markdown",
      "source": [
        "Results are saved in /content/edge_probing_results"
      ],
      "metadata": {
        "id": "NUH6T1C3T3Iq"
      }
    },
    {
      "cell_type": "markdown",
      "source": [
        "# MDL Probing"
      ],
      "metadata": {
        "id": "Tq2A_tE7UIcm"
      }
    },
    {
      "cell_type": "code",
      "source": [
        "! python3 $MDL_CODE bert-base-uncased trofi 0"
      ],
      "metadata": {
        "id": "JSx2flU7Fiyz"
      },
      "execution_count": null,
      "outputs": []
    },
    {
      "cell_type": "markdown",
      "source": [
        "Results are saved in /content/mdl_results"
      ],
      "metadata": {
        "id": "zFEPTwFLU5rD"
      }
    },
    {
      "cell_type": "code",
      "source": [
        ""
      ],
      "metadata": {
        "id": "lowM992vVDha"
      },
      "execution_count": null,
      "outputs": []
    }
  ]
}